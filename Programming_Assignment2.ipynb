{
 "cells": [
  {
   "cell_type": "markdown",
   "metadata": {},
   "source": [
    "### 1.\tWrite a Python program to convert kilometers to miles?"
   ]
  },
  {
   "cell_type": "code",
   "execution_count": 1,
   "metadata": {},
   "outputs": [
    {
     "name": "stdout",
     "output_type": "stream",
     "text": [
      "Enter distance in km: 50\n",
      "50.0 km is equal to 31.0685595 miles.\n"
     ]
    }
   ],
   "source": [
    "dist_km = float(input(\"Enter distance in km: \"))\n",
    "\n",
    "# Converting Km to miles\n",
    "dist_miles = 0.62137119 * dist_km\n",
    "\n",
    "print(f\"{dist_km} km is equal to {dist_miles} miles.\")"
   ]
  },
  {
   "cell_type": "markdown",
   "metadata": {},
   "source": [
    "### 2.\tWrite a Python program to convert Celsius to Fahrenheit?"
   ]
  },
  {
   "cell_type": "code",
   "execution_count": 2,
   "metadata": {},
   "outputs": [
    {
     "name": "stdout",
     "output_type": "stream",
     "text": [
      "Enter your temperature in celsius: 101\n",
      "Temperature after converting to Fahrenheit is 213.8\n"
     ]
    }
   ],
   "source": [
    "temp_celsius = float(input(\"Enter your temperature in celsius: \"))\n",
    "\n",
    "# Converting temperature in celsius to Fahrenheit\n",
    "temp_fahrenheit = (temp_celsius * 1.8) + 32\n",
    "\n",
    "print(f\"Temperature after converting to Fahrenheit is {temp_fahrenheit}\")"
   ]
  },
  {
   "cell_type": "markdown",
   "metadata": {},
   "source": [
    "### 3.\tWrite a Python program to display calendar?"
   ]
  },
  {
   "cell_type": "code",
   "execution_count": 3,
   "metadata": {},
   "outputs": [
    {
     "name": "stdout",
     "output_type": "stream",
     "text": [
      "Enter year to display the calendar: 2012\n",
      "Enter month to display the calendar: 5\n",
      "      May 2012\n",
      "Mo Tu We Th Fr Sa Su\n",
      "    1  2  3  4  5  6\n",
      " 7  8  9 10 11 12 13\n",
      "14 15 16 17 18 19 20\n",
      "21 22 23 24 25 26 27\n",
      "28 29 30 31\n"
     ]
    }
   ],
   "source": [
    "import calendar\n",
    "\n",
    "year = int(input(\"Enter year to display the calendar: \"))\n",
    "month = int(input(\"Enter month to display the calendar: \"))\n",
    "\n",
    "# Displaying calendar for specified year and month.\n",
    "calendar.prmonth(year, month)"
   ]
  },
  {
   "cell_type": "markdown",
   "metadata": {},
   "source": [
    "### 4.\tWrite a Python program to solve quadratic equation?"
   ]
  },
  {
   "cell_type": "code",
   "execution_count": 4,
   "metadata": {},
   "outputs": [
    {
     "name": "stdout",
     "output_type": "stream",
     "text": [
      "Enter a number: 5\n",
      "Enter a number: 2\n",
      "Enter a number: 1\n",
      "Positive: (-0.2+0.4j)\n",
      "Negative: (-0.2-0.4j)\n"
     ]
    }
   ],
   "source": [
    "import math\n",
    "import cmath\n",
    "\n",
    "a = int(input(\"Enter a number: \"))\n",
    "b = int(input(\"Enter a number: \"))\n",
    "c = int(input(\"Enter a number: \"))\n",
    "\n",
    "res = math.pow(b, 2) - (4*a*c)\n",
    "sqrt_b = cmath.sqrt(res)\n",
    "\n",
    "pos = -b + sqrt_b\n",
    "neg = -b - sqrt_b\n",
    "\n",
    "total_pos = pos / (2*a)\n",
    "total_neg = neg / (2*a)\n",
    "\n",
    "print(f\"Positive: {total_pos}\")\n",
    "print(f\"Negative: {total_neg}\")"
   ]
  },
  {
   "cell_type": "markdown",
   "metadata": {},
   "source": [
    "### 5.\tWrite a Python program to swap two variables without temp variable?"
   ]
  },
  {
   "cell_type": "code",
   "execution_count": 5,
   "metadata": {},
   "outputs": [
    {
     "name": "stdout",
     "output_type": "stream",
     "text": [
      "Enter a number: 5\n",
      "Enter a number: 2\n",
      "Numbers before swapping: 5, 2\n",
      "Numbers after swapping: 2, 5\n"
     ]
    }
   ],
   "source": [
    "num1 = int(input(\"Enter a number: \"))\n",
    "num2 = int(input(\"Enter a number: \"))\n",
    "\n",
    "print(f\"Numbers before swapping: {num1}, {num2}\")\n",
    "\n",
    "num1, num2 = num2, num1\n",
    "\n",
    "print(f\"Numbers after swapping: {num1}, {num2}\")"
   ]
  },
  {
   "cell_type": "code",
   "execution_count": null,
   "metadata": {},
   "outputs": [],
   "source": []
  }
 ],
 "metadata": {
  "interpreter": {
   "hash": "e48751a2e34d595a2cec059cf3591fb26f52f348ef6ba549e15b56ca6a208700"
  },
  "kernelspec": {
   "display_name": "Python 3 (ipykernel)",
   "language": "python",
   "name": "python3"
  },
  "language_info": {
   "codemirror_mode": {
    "name": "ipython",
    "version": 3
   },
   "file_extension": ".py",
   "mimetype": "text/x-python",
   "name": "python",
   "nbconvert_exporter": "python",
   "pygments_lexer": "ipython3",
   "version": "3.9.7"
  }
 },
 "nbformat": 4,
 "nbformat_minor": 2
}
