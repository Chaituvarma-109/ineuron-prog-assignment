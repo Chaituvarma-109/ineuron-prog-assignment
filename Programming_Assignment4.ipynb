{
 "cells": [
  {
   "cell_type": "markdown",
   "id": "c285058b",
   "metadata": {},
   "source": [
    "### 1.\tWrite a Python Program to Find the Factorial of a Number?"
   ]
  },
  {
   "cell_type": "code",
   "execution_count": 1,
   "id": "3f083636",
   "metadata": {},
   "outputs": [
    {
     "name": "stdout",
     "output_type": "stream",
     "text": [
      "Enter a number: 50\n",
      "Factorial of a 50 is 30414093201713378043612608166064768844377641568960512000000000000\n"
     ]
    }
   ],
   "source": [
    "fact_num = int(input(\"Enter a number: \"))\n",
    "\n",
    "if fact_num == 0:\n",
    "    fact = 1\n",
    "fact = 1\n",
    "for i in range(1, fact_num+1):\n",
    "    fact *= i\n",
    "\n",
    "print(f\"Factorial of a {fact_num} is {fact}\")"
   ]
  },
  {
   "cell_type": "markdown",
   "id": "9c7bca9e",
   "metadata": {},
   "source": [
    "### 2.\tWrite a Python Program to Display the multiplication Table?"
   ]
  },
  {
   "cell_type": "code",
   "execution_count": 17,
   "id": "bd127a65",
   "metadata": {},
   "outputs": [
    {
     "name": "stdout",
     "output_type": "stream",
     "text": [
      "Enter number: 5\n",
      "5 * 1  = 5\n",
      "5 * 2  = 10\n",
      "5 * 3  = 15\n",
      "5 * 4  = 20\n",
      "5 * 5  = 25\n",
      "5 * 6  = 30\n",
      "5 * 7  = 35\n",
      "5 * 8  = 40\n",
      "5 * 9  = 45\n",
      "5 * 10  = 50\n"
     ]
    }
   ],
   "source": [
    "mul_num = int(input(\"Enter number: \"))\n",
    "for i in range(1, 11):\n",
    "    print(f\"{mul_num} * {i}  = {mul_num * i}\")"
   ]
  },
  {
   "cell_type": "markdown",
   "id": "6d8e3401",
   "metadata": {},
   "source": [
    "### 3.\tWrite a Python Program to Print the Fibonacci sequence?"
   ]
  },
  {
   "cell_type": "code",
   "execution_count": 7,
   "id": "c421a82c",
   "metadata": {},
   "outputs": [
    {
     "name": "stdout",
     "output_type": "stream",
     "text": [
      "enter num: 9\n",
      "0 1 1 2 3 5 8 13 21 "
     ]
    }
   ],
   "source": [
    "num = int(input(\"enter num: \"))\n",
    "\n",
    "f1, f2 = 0, 1\n",
    "count = 0\n",
    "\n",
    "if num < 0:\n",
    "    print(\"Enter a valid input\")\n",
    "elif num == 1 or num == 0:\n",
    "    print(1, end=' ')\n",
    "else:\n",
    "    while count < num:\n",
    "        print(f1, end=' ')\n",
    "        sum_ = f1 + f2\n",
    "        f1 = f2\n",
    "        f2 = sum_\n",
    "        count += 1"
   ]
  },
  {
   "cell_type": "markdown",
   "id": "bf8dc4d0",
   "metadata": {},
   "source": [
    "### 4.\tWrite a Python Program to Check Armstrong Number?"
   ]
  },
  {
   "cell_type": "code",
   "execution_count": 2,
   "id": "b8acf11a",
   "metadata": {},
   "outputs": [
    {
     "name": "stdout",
     "output_type": "stream",
     "text": [
      "Enter your number: 1634\n",
      "1634 is Armstrong Number.\n"
     ]
    }
   ],
   "source": [
    "# Definition from Wikipedia.\n",
    "# Armstrong Number is an integer where sum of its own digits each raised to the power of the number of digits.\n",
    "# 371 = 3**3 + 7**3 + 1**3 = 371\n",
    "\n",
    "arm_num = int(input(\"Enter your number: \"))\n",
    "temp = arm_num\n",
    "total_sum = 0\n",
    "power = len(str(arm_num))\n",
    "while(arm_num > 0):\n",
    "    rem = arm_num%10\n",
    "    total_sum += (rem**power)\n",
    "    arm_num //= 10\n",
    "\n",
    "if (total_sum == temp):\n",
    "    print(f\"{temp} is Armstrong Number.\")\n",
    "else:\n",
    "    print(f\"{temp} is not an Armstrong Number.\")"
   ]
  },
  {
   "cell_type": "markdown",
   "id": "1f1a5f19",
   "metadata": {},
   "source": [
    "### 5.\tWrite a Python Program to Find Armstrong Number in an Interval?"
   ]
  },
  {
   "cell_type": "code",
   "execution_count": 1,
   "id": "c3cd353c",
   "metadata": {},
   "outputs": [
    {
     "name": "stdout",
     "output_type": "stream",
     "text": [
      "Enter a number: 10\n",
      "Enter a number: 10000\n",
      "153 is Armstrong Number.\n",
      "370 is Armstrong Number.\n",
      "371 is Armstrong Number.\n",
      "407 is Armstrong Number.\n",
      "1634 is Armstrong Number.\n",
      "8208 is Armstrong Number.\n",
      "9474 is Armstrong Number.\n"
     ]
    }
   ],
   "source": [
    "arm_num1 = int(input(\"Enter a number: \"))\n",
    "arm_num2 = int(input(\"Enter a number: \"))\n",
    "\n",
    "for i in range(arm_num1, arm_num2+1):\n",
    "    power = len(str(i))\n",
    "    total_sum = 0\n",
    "    temp = i\n",
    "    # Calculating a number is Armstrong or Not\n",
    "    while (temp > 0):\n",
    "        rem = temp%10\n",
    "        total_sum += (rem ** power)\n",
    "        temp //= 10\n",
    "    if total_sum == i:\n",
    "        print(f\"{i} is Armstrong Number.\")"
   ]
  },
  {
   "cell_type": "markdown",
   "id": "14d2778c",
   "metadata": {},
   "source": [
    "### 6.\tWrite a Python Program to Find the Sum of Natural Numbers?"
   ]
  },
  {
   "cell_type": "code",
   "execution_count": 4,
   "id": "0edb426f",
   "metadata": {},
   "outputs": [
    {
     "name": "stdout",
     "output_type": "stream",
     "text": [
      "enter num: 2567\n",
      "3296028\n"
     ]
    }
   ],
   "source": [
    "num = int(input(\"enter num: \"))\n",
    "\n",
    "s = ((num * (num+1))//2)\n",
    "\n",
    "print(s)"
   ]
  },
  {
   "cell_type": "code",
   "execution_count": null,
   "id": "cf4b6da2",
   "metadata": {},
   "outputs": [],
   "source": []
  }
 ],
 "metadata": {
  "kernelspec": {
   "display_name": "Python 3 (ipykernel)",
   "language": "python",
   "name": "python3"
  },
  "language_info": {
   "codemirror_mode": {
    "name": "ipython",
    "version": 3
   },
   "file_extension": ".py",
   "mimetype": "text/x-python",
   "name": "python",
   "nbconvert_exporter": "python",
   "pygments_lexer": "ipython3",
   "version": "3.9.7"
  }
 },
 "nbformat": 4,
 "nbformat_minor": 5
}
