{
 "cells": [
  {
   "cell_type": "markdown",
   "metadata": {},
   "source": [
    "1.\tWrite a Python program to print \"Hello Python\"?"
   ]
  },
  {
   "cell_type": "code",
   "execution_count": 2,
   "metadata": {},
   "outputs": [
    {
     "name": "stdout",
     "output_type": "stream",
     "text": [
      "\"Hello Python\"\n"
     ]
    }
   ],
   "source": [
    "print('\"Hello Python\"')"
   ]
  },
  {
   "cell_type": "markdown",
   "metadata": {},
   "source": [
    "2.\tWrite a Python program to do arithmetical operations addition and division.?"
   ]
  },
  {
   "cell_type": "code",
   "execution_count": 10,
   "metadata": {},
   "outputs": [
    {
     "name": "stdout",
     "output_type": "stream",
     "text": [
      "Addition: 22\n",
      "Division: 1.2\n"
     ]
    }
   ],
   "source": [
    "a = 12\n",
    "b = 10\n",
    "\n",
    "# Addition\n",
    "c = a + b\n",
    "\n",
    "# Division\n",
    "d = a / b\n",
    "\n",
    "print(f\"Addition: {c}\")\n",
    "print(f\"Division: {d}\")"
   ]
  },
  {
   "cell_type": "markdown",
   "metadata": {},
   "source": [
    "3.\tWrite a Python program to find the area of a triangle?"
   ]
  },
  {
   "cell_type": "code",
   "execution_count": 9,
   "metadata": {},
   "outputs": [
    {
     "name": "stdout",
     "output_type": "stream",
     "text": [
      "area: 7.5 sqcm\n"
     ]
    }
   ],
   "source": [
    "base = int(input(\"Enter the base of the triangle in cm: \"))\n",
    "perpendicular_height = int(input(\"Enter the height of the triangle in cm: \"))\n",
    "\n",
    "# calculating area of a triangle\n",
    "area = 1/2*(base * perpendicular_height)\n",
    "\n",
    "print(f\"area: {area} sqcm\")"
   ]
  },
  {
   "cell_type": "markdown",
   "metadata": {},
   "source": [
    "4.\tWrite a Python program to swap two variables?"
   ]
  },
  {
   "cell_type": "code",
   "execution_count": 7,
   "metadata": {},
   "outputs": [
    {
     "name": "stdout",
     "output_type": "stream",
     "text": [
      "before swapping: 3, chaitu\n",
      "after swapping: chaitu, 3\n"
     ]
    }
   ],
   "source": [
    "var_1 = input(\"Enter a number or string: \")\n",
    "var_2 = input(\"Enter a number or string: \")\n",
    "\n",
    "print(f\"before swapping: {var_1}, {var_2}\")\n",
    "\n",
    "# Swapping variables\n",
    "var_1, var_2 = var_2, var_1\n",
    "\n",
    "print(f\"after swapping: {var_1}, {var_2}\")"
   ]
  },
  {
   "cell_type": "markdown",
   "metadata": {},
   "source": [
    "5.\tWrite a Python program to generate a random number?"
   ]
  },
  {
   "cell_type": "code",
   "execution_count": 8,
   "metadata": {},
   "outputs": [
    {
     "name": "stdout",
     "output_type": "stream",
     "text": [
      "498\n"
     ]
    }
   ],
   "source": [
    "import random\n",
    "\n",
    "# Generate a random number\n",
    "rand_num = random.randint(1, 1000)\n",
    "\n",
    "print(rand_num)"
   ]
  },
  {
   "cell_type": "code",
   "execution_count": null,
   "metadata": {},
   "outputs": [],
   "source": []
  }
 ],
 "metadata": {
  "interpreter": {
   "hash": "e48751a2e34d595a2cec059cf3591fb26f52f348ef6ba549e15b56ca6a208700"
  },
  "kernelspec": {
   "display_name": "Python 3.9.7 64-bit ('base': conda)",
   "language": "python",
   "name": "python3"
  },
  "language_info": {
   "codemirror_mode": {
    "name": "ipython",
    "version": 3
   },
   "file_extension": ".py",
   "mimetype": "text/x-python",
   "name": "python",
   "nbconvert_exporter": "python",
   "pygments_lexer": "ipython3",
   "version": "3.9.7"
  },
  "orig_nbformat": 4
 },
 "nbformat": 4,
 "nbformat_minor": 2
}
